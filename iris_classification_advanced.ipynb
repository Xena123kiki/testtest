{
 "cells": [
  {
   "cell_type": "code",
   "execution_count": 1,
   "id": "e2308356-f42e-46ed-b4b9-58c069141ffd",
   "metadata": {
    "canvas": {
     "comments": [],
     "componentType": "CodeCell",
     "copiedOriginId": null,
     "diskcache": false,
     "headerColor": "inherit",
     "id": "8272e80f-a975-43b3-af58-abe06d186a16",
     "isComponent": false,
     "name": "",
     "parents": []
    },
    "tags": []
   },
   "outputs": [
    {
     "name": "stdout",
     "output_type": "stream",
     "text": [
      "Collecting sklearn\n",
      "  Using cached sklearn-0.0-py2.py3-none-any.whl\n",
      "Requirement already satisfied: torch in /Users/woojincha/Desktop/link-related-code/venv/lib/python3.8/site-packages (1.12.0)\n",
      "Collecting pytorch_lightning>=1.6\n",
      "  Using cached pytorch_lightning-1.6.5-py3-none-any.whl (585 kB)\n",
      "Collecting livelossplot\n",
      "  Using cached livelossplot-0.5.5-py3-none-any.whl (22 kB)\n",
      "Collecting scikit-learn\n",
      "  Using cached scikit_learn-1.1.1-cp38-cp38-macosx_10_13_x86_64.whl (8.5 MB)\n",
      "Requirement already satisfied: typing-extensions in /Users/woojincha/Desktop/link-related-code/venv/lib/python3.8/site-packages (from torch) (4.3.0)\n",
      "Collecting tqdm>=4.57.0\n",
      "  Using cached tqdm-4.64.0-py2.py3-none-any.whl (78 kB)\n",
      "Requirement already satisfied: PyYAML>=5.4 in /Users/woojincha/Desktop/link-related-code/venv/lib/python3.8/site-packages (from pytorch_lightning>=1.6) (5.4.1)\n",
      "Requirement already satisfied: numpy>=1.17.2 in /Users/woojincha/Desktop/link-related-code/venv/lib/python3.8/site-packages (from pytorch_lightning>=1.6) (1.23.1)\n",
      "Collecting torchmetrics>=0.4.1\n",
      "  Using cached torchmetrics-0.9.3-py3-none-any.whl (419 kB)\n",
      "Requirement already satisfied: protobuf<=3.20.1 in /Users/woojincha/Desktop/link-related-code/venv/lib/python3.8/site-packages (from pytorch_lightning>=1.6) (3.20.1)\n",
      "Collecting pyDeprecate>=0.3.1\n",
      "  Using cached pyDeprecate-0.3.2-py3-none-any.whl (10 kB)\n",
      "Requirement already satisfied: packaging>=17.0 in /Users/woojincha/Desktop/link-related-code/venv/lib/python3.8/site-packages (from pytorch_lightning>=1.6) (21.3)\n",
      "Collecting fsspec[http]!=2021.06.0,>=2021.05.0\n",
      "  Using cached fsspec-2022.5.0-py3-none-any.whl (140 kB)\n",
      "Collecting tensorboard>=2.2.0\n",
      "  Using cached tensorboard-2.9.1-py3-none-any.whl (5.8 MB)\n",
      "Collecting bokeh\n",
      "  Using cached bokeh-2.4.3-py3-none-any.whl (18.5 MB)\n",
      "Requirement already satisfied: matplotlib in /Users/woojincha/Desktop/link-related-code/venv/lib/python3.8/site-packages (from livelossplot) (3.5.2)\n",
      "Requirement already satisfied: aiohttp in /Users/woojincha/Desktop/link-related-code/venv/lib/python3.8/site-packages (from fsspec[http]!=2021.06.0,>=2021.05.0->pytorch_lightning>=1.6) (3.8.1)\n",
      "Requirement already satisfied: requests in /Users/woojincha/Desktop/link-related-code/venv/lib/python3.8/site-packages (from fsspec[http]!=2021.06.0,>=2021.05.0->pytorch_lightning>=1.6) (2.28.1)\n",
      "Requirement already satisfied: pyparsing!=3.0.5,>=2.0.2 in /Users/woojincha/Desktop/link-related-code/venv/lib/python3.8/site-packages (from packaging>=17.0->pytorch_lightning>=1.6) (3.0.9)\n",
      "Collecting grpcio>=1.24.3\n",
      "  Using cached grpcio-1.47.0-cp38-cp38-macosx_10_10_x86_64.whl (4.4 MB)\n",
      "Requirement already satisfied: wheel>=0.26 in /Users/woojincha/Desktop/link-related-code/venv/lib/python3.8/site-packages (from tensorboard>=2.2.0->pytorch_lightning>=1.6) (0.37.1)\n",
      "Requirement already satisfied: absl-py>=0.4 in /Users/woojincha/Desktop/link-related-code/venv/lib/python3.8/site-packages (from tensorboard>=2.2.0->pytorch_lightning>=1.6) (1.2.0)\n",
      "Requirement already satisfied: setuptools>=41.0.0 in /Users/woojincha/Desktop/link-related-code/venv/lib/python3.8/site-packages (from tensorboard>=2.2.0->pytorch_lightning>=1.6) (62.6.0)\n",
      "Collecting tensorboard-data-server<0.7.0,>=0.6.0\n",
      "  Using cached tensorboard_data_server-0.6.1-py3-none-macosx_10_9_x86_64.whl (3.5 MB)\n",
      "Collecting google-auth-oauthlib<0.5,>=0.4.1\n",
      "  Using cached google_auth_oauthlib-0.4.6-py2.py3-none-any.whl (18 kB)\n",
      "Collecting werkzeug>=1.0.1\n",
      "  Downloading Werkzeug-2.2.0-py3-none-any.whl (232 kB)\n",
      "\u001b[2K     \u001b[38;2;114;156;31m━━━━━━━━━━━━━━━━━━━━━━━━━━━━━━━━━━━━━━━\u001b[0m \u001b[32m232.2/232.2 kB\u001b[0m \u001b[31m5.3 MB/s\u001b[0m eta \u001b[36m0:00:00\u001b[0m31m12.7 MB/s\u001b[0m eta \u001b[36m0:00:01\u001b[0m\n",
      "\u001b[?25hCollecting tensorboard-plugin-wit>=1.6.0\n",
      "  Using cached tensorboard_plugin_wit-1.8.1-py3-none-any.whl (781 kB)\n",
      "Requirement already satisfied: google-auth<3,>=1.6.3 in /Users/woojincha/Desktop/link-related-code/venv/lib/python3.8/site-packages (from tensorboard>=2.2.0->pytorch_lightning>=1.6) (1.35.0)\n",
      "Collecting markdown>=2.6.8\n",
      "  Using cached Markdown-3.4.1-py3-none-any.whl (93 kB)\n",
      "Collecting protobuf<=3.20.1\n",
      "  Using cached protobuf-3.19.4-cp38-cp38-macosx_10_9_x86_64.whl (961 kB)\n",
      "Requirement already satisfied: tornado>=5.1 in /Users/woojincha/Desktop/link-related-code/venv/lib/python3.8/site-packages (from bokeh->livelossplot) (6.2)\n",
      "Requirement already satisfied: pillow>=7.1.0 in /Users/woojincha/Desktop/link-related-code/venv/lib/python3.8/site-packages (from bokeh->livelossplot) (9.2.0)\n",
      "Requirement already satisfied: Jinja2>=2.9 in /Users/woojincha/Desktop/link-related-code/venv/lib/python3.8/site-packages (from bokeh->livelossplot) (3.1.2)\n",
      "Requirement already satisfied: python-dateutil>=2.7 in /Users/woojincha/Desktop/link-related-code/venv/lib/python3.8/site-packages (from matplotlib->livelossplot) (2.8.2)\n",
      "Requirement already satisfied: cycler>=0.10 in /Users/woojincha/Desktop/link-related-code/venv/lib/python3.8/site-packages (from matplotlib->livelossplot) (0.11.0)\n",
      "Requirement already satisfied: fonttools>=4.22.0 in /Users/woojincha/Desktop/link-related-code/venv/lib/python3.8/site-packages (from matplotlib->livelossplot) (4.34.4)\n",
      "Requirement already satisfied: kiwisolver>=1.0.1 in /Users/woojincha/Desktop/link-related-code/venv/lib/python3.8/site-packages (from matplotlib->livelossplot) (1.4.4)\n",
      "Collecting joblib>=1.0.0\n",
      "  Using cached joblib-1.1.0-py2.py3-none-any.whl (306 kB)\n",
      "Collecting threadpoolctl>=2.0.0\n",
      "  Using cached threadpoolctl-3.1.0-py3-none-any.whl (14 kB)\n",
      "Collecting scipy>=1.3.2\n",
      "  Using cached scipy-1.8.1-cp38-cp38-macosx_12_0_universal2.macosx_10_9_x86_64.whl (55.3 MB)\n",
      "Requirement already satisfied: six>=1.9.0 in /Users/woojincha/Desktop/link-related-code/venv/lib/python3.8/site-packages (from google-auth<3,>=1.6.3->tensorboard>=2.2.0->pytorch_lightning>=1.6) (1.16.0)\n",
      "Requirement already satisfied: cachetools<5.0,>=2.0.0 in /Users/woojincha/Desktop/link-related-code/venv/lib/python3.8/site-packages (from google-auth<3,>=1.6.3->tensorboard>=2.2.0->pytorch_lightning>=1.6) (4.2.4)\n",
      "Requirement already satisfied: rsa<5,>=3.1.4 in /Users/woojincha/Desktop/link-related-code/venv/lib/python3.8/site-packages (from google-auth<3,>=1.6.3->tensorboard>=2.2.0->pytorch_lightning>=1.6) (4.9)\n",
      "Requirement already satisfied: pyasn1-modules>=0.2.1 in /Users/woojincha/Desktop/link-related-code/venv/lib/python3.8/site-packages (from google-auth<3,>=1.6.3->tensorboard>=2.2.0->pytorch_lightning>=1.6) (0.2.8)\n",
      "Requirement already satisfied: requests-oauthlib>=0.7.0 in /Users/woojincha/Desktop/link-related-code/venv/lib/python3.8/site-packages (from google-auth-oauthlib<0.5,>=0.4.1->tensorboard>=2.2.0->pytorch_lightning>=1.6) (1.3.1)\n",
      "Requirement already satisfied: MarkupSafe>=2.0 in /Users/woojincha/Desktop/link-related-code/venv/lib/python3.8/site-packages (from Jinja2>=2.9->bokeh->livelossplot) (2.1.1)\n",
      "Requirement already satisfied: importlib-metadata>=4.4 in /Users/woojincha/Desktop/link-related-code/venv/lib/python3.8/site-packages (from markdown>=2.6.8->tensorboard>=2.2.0->pytorch_lightning>=1.6) (4.12.0)\n",
      "Requirement already satisfied: certifi>=2017.4.17 in /Users/woojincha/Desktop/link-related-code/venv/lib/python3.8/site-packages (from requests->fsspec[http]!=2021.06.0,>=2021.05.0->pytorch_lightning>=1.6) (2022.6.15)\n",
      "Requirement already satisfied: charset-normalizer<3,>=2 in /Users/woojincha/Desktop/link-related-code/venv/lib/python3.8/site-packages (from requests->fsspec[http]!=2021.06.0,>=2021.05.0->pytorch_lightning>=1.6) (2.1.0)\n",
      "Requirement already satisfied: urllib3<1.27,>=1.21.1 in /Users/woojincha/Desktop/link-related-code/venv/lib/python3.8/site-packages (from requests->fsspec[http]!=2021.06.0,>=2021.05.0->pytorch_lightning>=1.6) (1.26.11)\n",
      "Requirement already satisfied: idna<4,>=2.5 in /Users/woojincha/Desktop/link-related-code/venv/lib/python3.8/site-packages (from requests->fsspec[http]!=2021.06.0,>=2021.05.0->pytorch_lightning>=1.6) (3.3)\n",
      "Requirement already satisfied: aiosignal>=1.1.2 in /Users/woojincha/Desktop/link-related-code/venv/lib/python3.8/site-packages (from aiohttp->fsspec[http]!=2021.06.0,>=2021.05.0->pytorch_lightning>=1.6) (1.2.0)\n",
      "Requirement already satisfied: async-timeout<5.0,>=4.0.0a3 in /Users/woojincha/Desktop/link-related-code/venv/lib/python3.8/site-packages (from aiohttp->fsspec[http]!=2021.06.0,>=2021.05.0->pytorch_lightning>=1.6) (4.0.2)\n",
      "Requirement already satisfied: multidict<7.0,>=4.5 in /Users/woojincha/Desktop/link-related-code/venv/lib/python3.8/site-packages (from aiohttp->fsspec[http]!=2021.06.0,>=2021.05.0->pytorch_lightning>=1.6) (6.0.2)\n",
      "Requirement already satisfied: attrs>=17.3.0 in /Users/woojincha/Desktop/link-related-code/venv/lib/python3.8/site-packages (from aiohttp->fsspec[http]!=2021.06.0,>=2021.05.0->pytorch_lightning>=1.6) (21.4.0)\n",
      "Requirement already satisfied: frozenlist>=1.1.1 in /Users/woojincha/Desktop/link-related-code/venv/lib/python3.8/site-packages (from aiohttp->fsspec[http]!=2021.06.0,>=2021.05.0->pytorch_lightning>=1.6) (1.3.0)\n",
      "Requirement already satisfied: yarl<2.0,>=1.0 in /Users/woojincha/Desktop/link-related-code/venv/lib/python3.8/site-packages (from aiohttp->fsspec[http]!=2021.06.0,>=2021.05.0->pytorch_lightning>=1.6) (1.7.2)\n",
      "Requirement already satisfied: zipp>=0.5 in /Users/woojincha/Desktop/link-related-code/venv/lib/python3.8/site-packages (from importlib-metadata>=4.4->markdown>=2.6.8->tensorboard>=2.2.0->pytorch_lightning>=1.6) (3.8.1)\n",
      "Requirement already satisfied: pyasn1<0.5.0,>=0.4.6 in /Users/woojincha/Desktop/link-related-code/venv/lib/python3.8/site-packages (from pyasn1-modules>=0.2.1->google-auth<3,>=1.6.3->tensorboard>=2.2.0->pytorch_lightning>=1.6) (0.4.8)\n",
      "Requirement already satisfied: oauthlib>=3.0.0 in /Users/woojincha/Desktop/link-related-code/venv/lib/python3.8/site-packages (from requests-oauthlib>=0.7.0->google-auth-oauthlib<0.5,>=0.4.1->tensorboard>=2.2.0->pytorch_lightning>=1.6) (3.2.0)\n",
      "Installing collected packages: tensorboard-plugin-wit, werkzeug, tqdm, threadpoolctl, tensorboard-data-server, scipy, pyDeprecate, protobuf, joblib, grpcio, fsspec, torchmetrics, scikit-learn, markdown, bokeh, sklearn, livelossplot, google-auth-oauthlib, tensorboard, pytorch_lightning\n",
      "  Attempting uninstall: protobuf\n",
      "    Found existing installation: protobuf 3.20.1\n",
      "    Uninstalling protobuf-3.20.1:\n",
      "      Successfully uninstalled protobuf-3.20.1\n",
      "Successfully installed bokeh-2.4.3 fsspec-2022.5.0 google-auth-oauthlib-0.4.6 grpcio-1.47.0 joblib-1.1.0 livelossplot-0.5.5 markdown-3.4.1 protobuf-3.19.4 pyDeprecate-0.3.2 pytorch_lightning-1.6.5 scikit-learn-1.1.1 scipy-1.8.1 sklearn-0.0 tensorboard-2.9.1 tensorboard-data-server-0.6.1 tensorboard-plugin-wit-1.8.1 threadpoolctl-3.1.0 torchmetrics-0.9.3 tqdm-4.64.0 werkzeug-2.2.0\n"
     ]
    }
   ],
   "source": [
    "# 아래의 Package가 필요한 경우에 주석을 삭제하고 설치해 주세요.\n",
    "# 해당 데모는 pytorch-lightning 1.6 버전 이상을 권장합니다.\n",
    "!pip install sklearn torch \"pytorch_lightning>=1.6\" livelossplot"
   ]
  },
  {
   "cell_type": "markdown",
   "id": "496466c9-747f-4165-b71a-08e9ae1af3bf",
   "metadata": {
    "canvas": {
     "comments": [],
     "componentType": "CodeCell",
     "copiedOriginId": null,
     "diskcache": false,
     "headerColor": "none",
     "id": "09eed00a-8990-4665-92c5-1d9654b0723d",
     "isComponent": false,
     "name": "",
     "parents": []
    },
    "tags": []
   },
   "source": [
    "## Load iris data"
   ]
  },
  {
   "cell_type": "code",
   "execution_count": 5,
   "id": "4869d963-6165-44ad-8803-2644b350857d",
   "metadata": {
    "canvas": {
     "comments": [],
     "componentType": "CodeCell",
     "copiedOriginId": null,
     "diskcache": false,
     "headerColor": "none",
     "id": "eef2dc4b-fb13-419b-a5af-f0031467c624",
     "isComponent": true,
     "name": "Load iris data",
     "parents": []
    },
    "tags": []
   },
   "outputs": [],
   "source": [
    "from sklearn.datasets import load_iris\n",
    "\n",
    "data = load_iris()"
   ]
  },
  {
   "cell_type": "markdown",
   "id": "6745d3f2-199c-4402-8ceb-382f750cca1c",
   "metadata": {
    "canvas": {
     "comments": [],
     "componentType": "CodeCell",
     "copiedOriginId": null,
     "diskcache": false,
     "headerColor": "none",
     "id": "399d38a8-ddfb-40ea-a5fa-29d669a1a3c2",
     "isComponent": false,
     "name": "",
     "parents": []
    },
    "tags": []
   },
   "source": [
    "## Create dataframe"
   ]
  },
  {
   "cell_type": "code",
   "execution_count": 6,
   "id": "dbaf0c0b-593f-4293-a9c8-409887b130c5",
   "metadata": {
    "canvas": {
     "comments": [],
     "componentType": "CodeCell",
     "copiedOriginId": null,
     "diskcache": false,
     "headerColor": "none",
     "id": "cc60d6b2-ac7b-4963-860e-15753f04026f",
     "isComponent": true,
     "name": "Create dataframe",
     "parents": [
      {
       "id": "eef2dc4b-fb13-419b-a5af-f0031467c624"
      }
     ]
    },
    "tags": []
   },
   "outputs": [],
   "source": [
    "import numpy as np\n",
    "import pandas as pd\n",
    "\n",
    "df = pd.DataFrame(data[\"data\"], columns=data[\"feature_names\"])\n",
    "df[\"target\"] = data[\"target\"]"
   ]
  },
  {
   "cell_type": "markdown",
   "id": "3a6ebe43-883d-4d72-b5f2-792ee6973294",
   "metadata": {
    "canvas": {
     "comments": [],
     "componentType": "CodeCell",
     "copiedOriginId": null,
     "diskcache": false,
     "headerColor": "none",
     "id": "0264c406-d9dd-43c0-959b-4cb45a4a342e",
     "isComponent": false,
     "name": "",
     "parents": []
    }
   },
   "source": [
    "## Train/valid split"
   ]
  },
  {
   "cell_type": "code",
   "execution_count": 7,
   "id": "a9f18f8c-8510-490e-807f-c7c1fc3e00e0",
   "metadata": {
    "canvas": {
     "comments": [],
     "componentType": "CodeCell",
     "copiedOriginId": null,
     "diskcache": false,
     "headerColor": "none",
     "id": "99e0b9ab-ef73-4805-8628-8ef0e9811e5e",
     "isComponent": true,
     "name": "Train valid split",
     "parents": [
      {
       "id": "cc60d6b2-ac7b-4963-860e-15753f04026f"
      }
     ]
    },
    "tags": []
   },
   "outputs": [],
   "source": [
    "import numpy as np\n",
    "\n",
    "train_ratio = 0.7\n",
    "train_len = int(train_ratio * len(df))\n",
    "indices = np.random.permutation(df.index)\n",
    "train_indices = indices[:train_len]\n",
    "valid_indices = indices[train_len:]"
   ]
  },
  {
   "cell_type": "markdown",
   "id": "eb7e8f3a-fd0c-465a-84d3-778d84014026",
   "metadata": {
    "canvas": {
     "comments": [],
     "componentType": "CodeCell",
     "copiedOriginId": null,
     "diskcache": false,
     "headerColor": "none",
     "id": "d7f758b7-2de2-4add-9baa-0aa98e1f67e7",
     "isComponent": false,
     "name": "",
     "parents": []
    }
   },
   "source": [
    "## Create dataloaders"
   ]
  },
  {
   "cell_type": "code",
   "execution_count": 8,
   "id": "43f21883-ce63-46c0-9c40-100b8fb48f60",
   "metadata": {
    "canvas": {
     "comments": [
      {
       "message": "ㄴ",
       "writer": "ㅇ"
      },
      {
       "message": "ㄴㅇㄴㄹㅁㅇ",
       "writer": "ㅁㄴㅇㄹㅁㄴㅇㄹ"
      }
     ],
     "componentType": "CodeCell",
     "copiedOriginId": null,
     "diskcache": false,
     "headerColor": "none",
     "id": "90b151b8-5c3d-48a2-b145-cf20d413d411",
     "isComponent": true,
     "name": "Create dataloaders",
     "parents": [
      {
       "id": "99e0b9ab-ef73-4805-8628-8ef0e9811e5e"
      }
     ]
    },
    "tags": []
   },
   "outputs": [],
   "source": [
    "import torch\n",
    "from torch.utils.data import DataLoader, TensorDataset, Subset\n",
    "\n",
    "dataset = TensorDataset(torch.from_numpy(df.loc[:, data[\"feature_names\"]].values).float(), torch.from_numpy(df.loc[:, \"target\"].values).long())\n",
    "train_loader = DataLoader(Subset(dataset, train_indices), batch_size=20)\n",
    "valid_loader = DataLoader(Subset(dataset, valid_indices), batch_size=len(valid_indices))"
   ]
  },
  {
   "cell_type": "markdown",
   "id": "c0658be1-9d6e-44bc-9582-05e79e13a996",
   "metadata": {
    "canvas": {
     "comments": [],
     "componentType": "CodeCell",
     "copiedOriginId": null,
     "diskcache": false,
     "headerColor": "none",
     "id": "ce720e08-919f-434c-957f-4dd4a34c7a0f",
     "isComponent": false,
     "name": "",
     "parents": []
    }
   },
   "source": [
    "## Define pl model"
   ]
  },
  {
   "cell_type": "code",
   "execution_count": 2,
   "id": "962dc241-3ab6-40ea-b9ac-11319f17de2e",
   "metadata": {
    "canvas": {
     "comments": [],
     "componentType": "CodeCell",
     "copiedOriginId": null,
     "diskcache": false,
     "headerColor": "none",
     "id": "c68dd5c0-4948-447f-83a5-51fd8856d231",
     "isComponent": true,
     "name": "Define pl model",
     "parents": []
    },
    "tags": []
   },
   "outputs": [
    {
     "name": "stderr",
     "output_type": "stream",
     "text": [
      "/Users/woojincha/Desktop/link-related-code/venv/lib/python3.8/site-packages/tqdm/auto.py:22: TqdmWarning: IProgress not found. Please update jupyter and ipywidgets. See https://ipywidgets.readthedocs.io/en/stable/user_install.html\n",
      "  from .autonotebook import tqdm as notebook_tqdm\n"
     ]
    }
   ],
   "source": [
    "from typing import Union, Dict, List, Any\n",
    "import torch\n",
    "import torchmetrics\n",
    "import pytorch_lightning as pl\n",
    "\n",
    "class Classifier(pl.LightningModule):\n",
    "    \n",
    "    def __init__(self):\n",
    "        super().__init__()\n",
    "\n",
    "        self._metrics: Dict[str, Dict[str, Any]] = {\n",
    "            \"train\": {\n",
    "                \"acc\": torchmetrics.Accuracy(),\n",
    "            },\n",
    "            \"valid\": {\n",
    "                \"acc\": torchmetrics.Accuracy(),\n",
    "            },\n",
    "        }\n",
    "        seq = [\n",
    "            torch.nn.Linear(4, 5),\n",
    "            torch.nn.ReLU(),\n",
    "            torch.nn.Linear(5, 8),\n",
    "            torch.nn.ReLU(),\n",
    "            torch.nn.Linear(8, 5),\n",
    "            torch.nn.ReLU(),\n",
    "            torch.nn.Linear(5, 3),\n",
    "            torch.nn.Softmax(),\n",
    "        ]\n",
    "        self.fcn: torch.nn.Sequential = torch.nn.Sequential(*seq)\n",
    "\n",
    "    def forward(self, x: torch.Tensor) -> Any:\n",
    "        \"\"\"\n",
    "        Documentation.\n",
    "        Parameters\n",
    "        ----------\n",
    "        x: torch.Tensor\n",
    "        Returns\n",
    "        -------\n",
    "        Any\n",
    "        \"\"\"\n",
    "        return self.fcn(x)\n",
    "\n",
    "    def training_step(self, train_batch: torch.Tensor, batch_idx: int) -> Union[torch.Tensor, Dict[str, Any]]:\n",
    "        batch_x, batch_y = train_batch\n",
    "        batch_y_hat: torch.Tensor = self(batch_x)\n",
    "        loss = torch.nn.CrossEntropyLoss()(batch_y_hat, batch_y)\n",
    "        self.log(\"train_loss\", loss, on_epoch=True)\n",
    "\n",
    "        train_metrics: List[Dict[str, Any]] = self._metrics[\"train\"]\n",
    "        for name, metric in train_metrics.items():\n",
    "            self.log(\"Train: {0}\".format(name), metric(torch.argmax(batch_y_hat, dim=1), batch_y), on_epoch=True)\n",
    "        return loss\n",
    "\n",
    "    def validation_step(self, valid_batch: torch.Tensor, batch_idx: int) -> None:\n",
    "        batch_x, batch_y = valid_batch\n",
    "\n",
    "        batch_y_hat: torch.Tensor = self(batch_x)\n",
    "        loss = torch.nn.CrossEntropyLoss()(batch_y_hat, batch_y)\n",
    "        self.log(\"valid_loss\", loss, on_epoch=True)\n",
    "        for name, metric in self._metrics[\"valid\"].items():\n",
    "            self.log(\"Valid: {0}\".format(name), metric(torch.argmax(batch_y_hat, dim=1), batch_y), on_epoch=True)\n",
    "\n",
    "    def configure_optimizers(self) -> Any:\n",
    "        optimizer = torch.optim.Adam(self.parameters(), lr=1e-3)\n",
    "        return optimizer"
   ]
  },
  {
   "cell_type": "markdown",
   "id": "b078646c-2116-403f-afd0-5182045700ce",
   "metadata": {
    "canvas": {
     "comments": [],
     "componentType": "CodeCell",
     "copiedOriginId": null,
     "diskcache": false,
     "headerColor": "none",
     "id": "e44ffe99-4b92-48c2-ac33-cdf8051e688a",
     "isComponent": false,
     "name": "",
     "parents": []
    }
   },
   "source": [
    "## Create pl model"
   ]
  },
  {
   "cell_type": "code",
   "execution_count": 3,
   "id": "bd6e6209-4d3f-4c68-b211-d8fde54d0fce",
   "metadata": {
    "canvas": {
     "comments": [],
     "componentType": "CodeCell",
     "copiedOriginId": null,
     "diskcache": false,
     "headerColor": "none",
     "id": "ccee2dd0-8ca1-49b1-aa96-aeb3a9cca728",
     "isComponent": true,
     "name": "Create pl model",
     "parents": [
      {
       "id": "c68dd5c0-4948-447f-83a5-51fd8856d231"
      }
     ]
    },
    "tags": []
   },
   "outputs": [],
   "source": [
    "model = Classifier()"
   ]
  },
  {
   "cell_type": "markdown",
   "id": "ba871cb4-5639-4282-b545-6ac84b86bd6f",
   "metadata": {
    "canvas": {
     "comments": [],
     "componentType": "CodeCell",
     "copiedOriginId": null,
     "diskcache": false,
     "headerColor": "none",
     "id": "683f94a7-2159-487e-bfd7-3579786aa2e7",
     "isComponent": false,
     "name": "",
     "parents": []
    }
   },
   "source": [
    "## Define liveplot logger"
   ]
  },
  {
   "cell_type": "code",
   "execution_count": 4,
   "id": "e0973888-a208-4417-a751-992486e93559",
   "metadata": {
    "canvas": {
     "comments": [],
     "componentType": "CodeCell",
     "copiedOriginId": null,
     "diskcache": false,
     "headerColor": "none",
     "id": "4499176e-1f68-4dcb-b4d3-b9271c143e3a",
     "isComponent": true,
     "name": "Define liveplot logger",
     "parents": []
    },
    "tags": []
   },
   "outputs": [],
   "source": [
    "import argparse\n",
    "from typing import Any, Dict, Optional\n",
    "from livelossplot import PlotLosses\n",
    "from pytorch_lightning.loggers import LightningLoggerBase\n",
    "from pytorch_lightning.loggers.base import rank_zero_experiment\n",
    "from pytorch_lightning.utilities import rank_zero_only, types\n",
    "\n",
    "\n",
    "class PlotLossesLogger(LightningLoggerBase):\n",
    "    \"\"\"Canvas Logger for lightning trainers\n",
    "    Args:\n",
    "        LightningLoggerBase ([type]): [description]\n",
    "    \"\"\"\n",
    "\n",
    "    def __init__(self, experiment=\"tmp\", max_epoch=None, **kwargs):\n",
    "        super().__init__()\n",
    "        self._plotlosses = PlotLosses(**kwargs).reset_outputs().to_matplotlib(max_epoch=max_epoch)\n",
    "        self._experiment = experiment\n",
    "        self._last_epoch = 0\n",
    "        self._last_metrics = {}\n",
    "\n",
    "    @property  # type: ignore\n",
    "    @rank_zero_experiment\n",
    "    def experiment(self) -> str:\n",
    "        return self._experiment\n",
    "\n",
    "    @rank_zero_only\n",
    "    def log_hyperparams(self, params: argparse.Namespace, *args: Any, **kwargs: Any) -> None:\n",
    "        pass\n",
    "\n",
    "    @rank_zero_only\n",
    "    def log_metrics(self, metrics: Dict[str, Any], step: Optional[int] = None) -> None:\n",
    "        if metrics[\"epoch\"] > self._last_epoch and \"valid_loss\" in metrics:\n",
    "            # Update accumulated metrics\n",
    "            if \"train_loss_step\" in self._last_metrics:\n",
    "                self._last_metrics.pop(\"train_loss_step\")\n",
    "            self._plotlosses.update(self._last_metrics)\n",
    "            self._plotlosses.send()\n",
    "            self._last_epoch = metrics.pop(\"epoch\")\n",
    "            self._last_metrics = metrics\n",
    "        else:\n",
    "            metrics.pop(\"epoch\")\n",
    "            self._last_metrics = {**self._last_metrics, **metrics}\n",
    "\n",
    "    @property\n",
    "    def name(self) -> str:\n",
    "        return \"canvas\"\n",
    "\n",
    "    @property\n",
    "    def version(self) -> str:\n",
    "        return \"prototype\""
   ]
  },
  {
   "cell_type": "markdown",
   "id": "d26630db-0bc7-4dd4-8e5b-6ac28cdc28de",
   "metadata": {
    "canvas": {
     "comments": [],
     "componentType": "CodeCell",
     "copiedOriginId": null,
     "diskcache": false,
     "headerColor": "none",
     "id": "a40c2a7b-2d6e-44d9-b324-14965b36e94c",
     "isComponent": false,
     "name": "",
     "parents": []
    }
   },
   "source": [
    "## Train model"
   ]
  },
  {
   "cell_type": "code",
   "execution_count": 13,
   "id": "cb628aaf-03e9-4e3a-bc9b-0597fcbbcaf7",
   "metadata": {
    "canvas": {
     "comments": [],
     "componentType": "CodeCell",
     "copiedOriginId": null,
     "diskcache": false,
     "headerColor": "none",
     "id": "e5873610-eae0-44bb-9afe-c6a998def201",
     "isComponent": true,
     "name": "Train model",
     "parents": [
      {
       "id": "ccee2dd0-8ca1-49b1-aa96-aeb3a9cca728"
      },
      {
       "id": "4499176e-1f68-4dcb-b4d3-b9271c143e3a"
      },
      {
       "id": "90b151b8-5c3d-48a2-b145-cf20d413d411"
      }
     ]
    },
    "tags": []
   },
   "outputs": [
    {
     "data": {
      "image/png": "[encoded data removed]",
      "text/plain": [
       "<Figure size 864x576 with 2 Axes>"
      ]
     },
     "metadata": {
      "needs_background": "light"
     },
     "output_type": "display_data"
    }
   ],
   "source": [
    "# <<<<<<< /Users/woojincha/Desktop/test/mytest/iris_classification_advanced.ipynb-current\n",
    "max_epoch = 10\n",
    "# =======\n",
    "# max_epoch = 20\n",
    "# >>>>>>> /Users/woojincha/Desktop/test/mytest/iris_classification_advanced.ipynb-incoming\n",
    "logger = PlotLossesLogger(\n",
    "    groups={\"loss\": [\"train_loss_epoch\", \"valid_loss\"], \"Accuracy\": [\"Train: acc_epoch\", \"Valid: acc\"]},\n",
    "    max_epoch=max_epoch,\n",
    ")\n",
    "trainer = pl.Trainer(max_epochs=max_epoch, logger=[logger], enable_progress_bar=False)\n",
    "trainer.fit(model, train_loader, valid_loader)"
   ]
  },
  {
   "cell_type": "code",
   "execution_count": 10,
   "id": "285aa034-e5a6-4226-9252-897595ab9844",
   "metadata": {
    "canvas": {
     "comments": [],
     "componentType": "CodeCell",
     "copiedOriginId": null,
     "diskcache": false,
     "headerColor": "none",
     "id": "a35aa072-1a5b-4e18-90b9-5877714bd0e0",
     "isComponent": true,
     "name": "Retrain asdf model",
     "parents": [
      {
       "id": "e5873610-eae0-44bb-9afe-c6a998def201"
      }
     ]
    },
    "tags": []
   },
   "outputs": [
    {
     "data": {
      "image/png": "[encoded data removed]",
      "text/plain": [
       "<Figure size 864x576 with 2 Axes>"
      ]
     },
     "metadata": {
      "needs_background": "light"
     },
     "output_type": "display_data"
    }
   ],
   "source": [
    "max_epoch = 100\n",
    "logger = PlotLossesLogger(\n",
    "    groups={\"loss\": [\"train_loss_epoch\", \"valid_loss\"], \"Accuracy\": [\"Train: acc_epoch\", \"Valid: acc\"]},\n",
    "    max_epoch=max_epoch,\n",
    ")\n",
    "trainer = pl.Trainer(max_epochs=max_epoch, logger=[logger], enable_progress_bar=False)\n",
    "trainer.fit(model, train_loader, valid_loader)"
   ]
  }
 ],
 "metadata": {
  "canvas": {
   "parameters": [
    {
     "name": "a",
     "type": "int",
     "value": "12"
    }
   ],
   "version": "1.0"
  },
  "kernelspec": {
   "display_name": "Python 3 (ipykernel)",
   "language": "python",
   "name": "python3"
  },
  "language_info": {
   "codemirror_mode": {
    "name": "ipython",
    "version": 3
   },
   "file_extension": ".py",
   "mimetype": "text/x-python",
   "name": "python",
   "nbconvert_exporter": "python",
   "pygments_lexer": "ipython3",
   "version": "3.8.9"
  }
 },
 "nbformat": 4,
 "nbformat_minor": 5
}
